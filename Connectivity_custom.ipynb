{
 "cells": [
  {
   "cell_type": "markdown",
   "metadata": {},
   "source": [
    "# Connectivity function"
   ]
  },
  {
   "cell_type": "code",
   "execution_count": 5,
   "metadata": {},
   "outputs": [],
   "source": [
    "\n",
    "import torch\n",
    "import numpy as np\n",
    "import torch\n",
    "from scipy.sparse import random\n",
    "from scipy import stats\n",
    "from numpy import linalg\n",
    "\n",
    "\n",
    "class connectivity:\n",
    "\n",
    "    def init_connectivity( N,input_size,output_size,radius=1.5):\n",
    "        '''\n",
    "        Initialize connectivity of RNN\n",
    "        :param N: network size\n",
    "        :param input_size: number of input channels\n",
    "        :param output_size: number of output channels\n",
    "        :param radius: spectral radius\n",
    "        :return: Connectivity and masks\n",
    "        '''\n",
    "        Ne = int(N * 0.8)\n",
    "        Ni = int(N * 0.2)\n",
    "\n",
    "        # Initialize W_rec\n",
    "        W_rec = torch.empty([0, N])\n",
    "\n",
    "        # Balancing parameters\n",
    "        mu_E = 1 / np.sqrt(N)\n",
    "        mu_I = 4 / np.sqrt(N)\n",
    "\n",
    "        var = 1 / N\n",
    "\n",
    "        rowE = torch.empty([Ne, 0])\n",
    "        rowI = torch.empty([Ni, 0])\n",
    "\n",
    "        rowE = torch.cat((rowE, torch.tensor(\n",
    "            random(Ne, Ne, density=1, data_rvs=stats.norm(scale=var, loc=mu_E).rvs).toarray()).float()), 1)\n",
    "        rowE = torch.cat((rowE, -torch.tensor(\n",
    "            random(Ne, Ni, density=1, data_rvs=stats.norm(scale=var, loc=mu_I).rvs).toarray()).float()), 1)\n",
    "        rowI = torch.cat((rowI, torch.tensor(\n",
    "            random(Ni, Ne, density=1, data_rvs=stats.norm(scale=var, loc=mu_E).rvs).toarray()).float()), 1)\n",
    "        rowI = torch.cat((rowI, -torch.tensor(\n",
    "            random(Ni, Ni, density=1, data_rvs=stats.norm(scale=var, loc=mu_I).rvs).toarray()).float()), 1)\n",
    "\n",
    "        W_rec = torch.cat((W_rec, rowE), 0)\n",
    "        W_rec = torch.cat((W_rec, rowI), 0)\n",
    "\n",
    "        W_rec = W_rec - torch.diag(torch.diag(W_rec))\n",
    "        w, v = linalg.eig(W_rec)\n",
    "        spec_radius = np.max(np.absolute(w))\n",
    "        W_rec = radius * W_rec / spec_radius\n",
    "\n",
    "        W_in = torch.zeros([N, input_size]).float()\n",
    "        W_in[:, :] = radius * torch.tensor(\n",
    "            random(N, input_size, density=1, data_rvs=stats.norm(scale=var, loc=mu_E).rvs).toarray()).float()\n",
    "\n",
    "        W_out = torch.zeros([output_size, N])\n",
    "        W_out[:, :Ne] = torch.tensor(random(output_size, Ne, density=1,\n",
    "                                            data_rvs=stats.norm(scale=var, loc=mu_E).rvs).toarray()).float()\n",
    "\n",
    "        dale_mask = torch.sign(W_rec).float()\n",
    "        output_mask = (W_out != 0).float()\n",
    "        input_mask = (W_in != 0).float()\n",
    "\n",
    "        return W_rec.float(), W_in.float(), W_out.float(), dale_mask, output_mask, input_mask"
   ]
  }
 ],
 "metadata": {
  "kernelspec": {
   "display_name": "RNN",
   "language": "python",
   "name": "python3"
  },
  "language_info": {
   "codemirror_mode": {
    "name": "ipython",
    "version": 3
   },
   "file_extension": ".py",
   "mimetype": "text/x-python",
   "name": "python",
   "nbconvert_exporter": "python",
   "pygments_lexer": "ipython3",
   "version": "3.11.11"
  }
 },
 "nbformat": 4,
 "nbformat_minor": 2
}
